{
 "cells": [
  {
   "cell_type": "code",
   "execution_count": 11,
   "id": "82c15e54",
   "metadata": {},
   "outputs": [],
   "source": [
    "import pandas as pd\n",
    "import numpy as np\n",
    "import matplotlib as plt\n",
    "import seaborn as sns\n",
    "import plotly.graph_objs as go\n",
    "import plotly.express as px"
   ]
  },
  {
   "cell_type": "markdown",
   "id": "ad1234d0",
   "metadata": {},
   "source": [
    "데이터 불러오기"
   ]
  },
  {
   "cell_type": "code",
   "execution_count": 2,
   "id": "5378e7d2",
   "metadata": {},
   "outputs": [],
   "source": [
    "funding_rounds=pd.read_csv(\"funding_rounds.csv\", index_col=0)\n",
    "funds=pd.read_csv(\"funds.csv\", index_col=0)\n",
    "investment_partners=pd.read_csv(\"investment_partners.csv\", index_col=0)\n",
    "investments=pd.read_csv(\"investments.csv\", index_col=0)\n",
    "investors=pd.read_csv(\"investors.csv\", index_col=0)"
   ]
  },
  {
   "cell_type": "code",
   "execution_count": 3,
   "id": "c57d6c2f",
   "metadata": {},
   "outputs": [
    {
     "data": {
      "text/html": [
       "<div>\n",
       "<style scoped>\n",
       "    .dataframe tbody tr th:only-of-type {\n",
       "        vertical-align: middle;\n",
       "    }\n",
       "\n",
       "    .dataframe tbody tr th {\n",
       "        vertical-align: top;\n",
       "    }\n",
       "\n",
       "    .dataframe thead th {\n",
       "        text-align: right;\n",
       "    }\n",
       "</style>\n",
       "<table border=\"1\" class=\"dataframe\">\n",
       "  <thead>\n",
       "    <tr style=\"text-align: right;\">\n",
       "      <th></th>\n",
       "      <th>name</th>\n",
       "      <th>investment_type</th>\n",
       "      <th>raised_amount_usd</th>\n",
       "      <th>investor_count</th>\n",
       "      <th>org_uuid</th>\n",
       "      <th>org_name</th>\n",
       "      <th>lead_investor_uuids</th>\n",
       "    </tr>\n",
       "    <tr>\n",
       "      <th>uuid</th>\n",
       "      <th></th>\n",
       "      <th></th>\n",
       "      <th></th>\n",
       "      <th></th>\n",
       "      <th></th>\n",
       "      <th></th>\n",
       "      <th></th>\n",
       "    </tr>\n",
       "  </thead>\n",
       "  <tbody>\n",
       "    <tr>\n",
       "      <th>8a945939-18e0-cc9d-27b9-bf33817b2818</th>\n",
       "      <td>Angel Round - Meta</td>\n",
       "      <td>angel</td>\n",
       "      <td>500000.0</td>\n",
       "      <td>4.0</td>\n",
       "      <td>df662812-7f97-0b43-9d3e-12f64f504fbb</td>\n",
       "      <td>Meta</td>\n",
       "      <td>3f47be49-2e32-8118-01a0-31685a4d0fd7</td>\n",
       "    </tr>\n",
       "    <tr>\n",
       "      <th>d950d7a5-79ff-fb93-ca87-13386b0e2feb</th>\n",
       "      <td>Series A - Meta</td>\n",
       "      <td>series_a</td>\n",
       "      <td>12700000.0</td>\n",
       "      <td>4.0</td>\n",
       "      <td>df662812-7f97-0b43-9d3e-12f64f504fbb</td>\n",
       "      <td>Meta</td>\n",
       "      <td>b08efc27-da40-505a-6f9d-c9e14247bf36</td>\n",
       "    </tr>\n",
       "  </tbody>\n",
       "</table>\n",
       "</div>"
      ],
      "text/plain": [
       "                                                    name investment_type  \\\n",
       "uuid                                                                       \n",
       "8a945939-18e0-cc9d-27b9-bf33817b2818  Angel Round - Meta           angel   \n",
       "d950d7a5-79ff-fb93-ca87-13386b0e2feb     Series A - Meta        series_a   \n",
       "\n",
       "                                      raised_amount_usd  investor_count  \\\n",
       "uuid                                                                      \n",
       "8a945939-18e0-cc9d-27b9-bf33817b2818           500000.0             4.0   \n",
       "d950d7a5-79ff-fb93-ca87-13386b0e2feb         12700000.0             4.0   \n",
       "\n",
       "                                                                  org_uuid  \\\n",
       "uuid                                                                         \n",
       "8a945939-18e0-cc9d-27b9-bf33817b2818  df662812-7f97-0b43-9d3e-12f64f504fbb   \n",
       "d950d7a5-79ff-fb93-ca87-13386b0e2feb  df662812-7f97-0b43-9d3e-12f64f504fbb   \n",
       "\n",
       "                                     org_name  \\\n",
       "uuid                                            \n",
       "8a945939-18e0-cc9d-27b9-bf33817b2818     Meta   \n",
       "d950d7a5-79ff-fb93-ca87-13386b0e2feb     Meta   \n",
       "\n",
       "                                                       lead_investor_uuids  \n",
       "uuid                                                                        \n",
       "8a945939-18e0-cc9d-27b9-bf33817b2818  3f47be49-2e32-8118-01a0-31685a4d0fd7  \n",
       "d950d7a5-79ff-fb93-ca87-13386b0e2feb  b08efc27-da40-505a-6f9d-c9e14247bf36  "
      ]
     },
     "execution_count": 3,
     "metadata": {},
     "output_type": "execute_result"
    }
   ],
   "source": [
    "df_1=funding_rounds[['name','investment_type','raised_amount_usd','investor_count','org_uuid','org_name','lead_investor_uuids']]\n",
    "df_1.head(2)"
   ]
  },
  {
   "cell_type": "code",
   "execution_count": 4,
   "id": "ccab968e",
   "metadata": {},
   "outputs": [
    {
     "data": {
      "text/plain": [
       "seed                     137032\n",
       "series_unknown            76601\n",
       "series_a                  55523\n",
       "pre_seed                  38969\n",
       "grant                     35408\n",
       "series_b                  27003\n",
       "angel                     24487\n",
       "debt_financing            20533\n",
       "private_equity            16429\n",
       "post_ipo_equity           13941\n",
       "non_equity_assistance     13041\n",
       "series_c                  12342\n",
       "convertible_note           9990\n",
       "undisclosed                8050\n",
       "equity_crowdfunding        7587\n",
       "series_d                   5224\n",
       "corporate_round            5027\n",
       "post_ipo_debt              3420\n",
       "series_e                   2162\n",
       "secondary_market           1617\n",
       "product_crowdfunding       1210\n",
       "initial_coin_offering       887\n",
       "series_f                    789\n",
       "series_g                    267\n",
       "post_ipo_secondary          255\n",
       "series_h                    114\n",
       "series_i                     29\n",
       "series_j                     19\n",
       "Name: investment_type, dtype: int64"
      ]
     },
     "execution_count": 4,
     "metadata": {},
     "output_type": "execute_result"
    }
   ],
   "source": [
    "df_1['investment_type'].value_counts()"
   ]
  },
  {
   "cell_type": "markdown",
   "id": "740e2f19",
   "metadata": {},
   "source": [
    "invest type이 series a,b,c에 해당하는 데이터 추출"
   ]
  },
  {
   "cell_type": "code",
   "execution_count": 5,
   "id": "ea1efaaa",
   "metadata": {},
   "outputs": [
    {
     "data": {
      "text/html": [
       "<div>\n",
       "<style scoped>\n",
       "    .dataframe tbody tr th:only-of-type {\n",
       "        vertical-align: middle;\n",
       "    }\n",
       "\n",
       "    .dataframe tbody tr th {\n",
       "        vertical-align: top;\n",
       "    }\n",
       "\n",
       "    .dataframe thead th {\n",
       "        text-align: right;\n",
       "    }\n",
       "</style>\n",
       "<table border=\"1\" class=\"dataframe\">\n",
       "  <thead>\n",
       "    <tr style=\"text-align: right;\">\n",
       "      <th></th>\n",
       "      <th>name</th>\n",
       "      <th>investment_type</th>\n",
       "      <th>raised_amount_usd</th>\n",
       "      <th>investor_count</th>\n",
       "      <th>org_uuid</th>\n",
       "      <th>org_name</th>\n",
       "      <th>lead_investor_uuids</th>\n",
       "    </tr>\n",
       "    <tr>\n",
       "      <th>uuid</th>\n",
       "      <th></th>\n",
       "      <th></th>\n",
       "      <th></th>\n",
       "      <th></th>\n",
       "      <th></th>\n",
       "      <th></th>\n",
       "      <th></th>\n",
       "    </tr>\n",
       "  </thead>\n",
       "  <tbody>\n",
       "    <tr>\n",
       "      <th>d950d7a5-79ff-fb93-ca87-13386b0e2feb</th>\n",
       "      <td>Series A - Meta</td>\n",
       "      <td>series_a</td>\n",
       "      <td>12700000.0</td>\n",
       "      <td>4.0</td>\n",
       "      <td>df662812-7f97-0b43-9d3e-12f64f504fbb</td>\n",
       "      <td>Meta</td>\n",
       "      <td>b08efc27-da40-505a-6f9d-c9e14247bf36</td>\n",
       "    </tr>\n",
       "    <tr>\n",
       "      <th>6fae3958-a001-27c0-fb7e-666266aedd78</th>\n",
       "      <td>Series B - Meta</td>\n",
       "      <td>series_b</td>\n",
       "      <td>27500000.0</td>\n",
       "      <td>5.0</td>\n",
       "      <td>df662812-7f97-0b43-9d3e-12f64f504fbb</td>\n",
       "      <td>Meta</td>\n",
       "      <td>e2006571-6b7a-e477-002a-f7014f48a7e3,8d5c7e48-...</td>\n",
       "    </tr>\n",
       "    <tr>\n",
       "      <th>bcd5a63d-ed99-6963-0dd2-e36f6582f846</th>\n",
       "      <td>Series B - Photobucket</td>\n",
       "      <td>series_b</td>\n",
       "      <td>10500000.0</td>\n",
       "      <td>2.0</td>\n",
       "      <td>f53cb4de-236e-0b1b-dee8-7104a8b018f9</td>\n",
       "      <td>Photobucket</td>\n",
       "      <td>NaN</td>\n",
       "    </tr>\n",
       "    <tr>\n",
       "      <th>60e6afd9-1215-465a-dd17-0ed600d4e29b</th>\n",
       "      <td>Series A - Geni</td>\n",
       "      <td>series_a</td>\n",
       "      <td>NaN</td>\n",
       "      <td>1.0</td>\n",
       "      <td>4111dc8b-c0df-2d24-ed33-30cd137b3098</td>\n",
       "      <td>Geni</td>\n",
       "      <td>fb2f8884-ec07-895a-48d7-d9a9d4d7175c</td>\n",
       "    </tr>\n",
       "    <tr>\n",
       "      <th>4a56483e-d637-65fa-a2b4-abe6613e5c6b</th>\n",
       "      <td>Series B - Geni</td>\n",
       "      <td>series_b</td>\n",
       "      <td>10000000.0</td>\n",
       "      <td>1.0</td>\n",
       "      <td>4111dc8b-c0df-2d24-ed33-30cd137b3098</td>\n",
       "      <td>Geni</td>\n",
       "      <td>1787528e-7bd3-a500-ba86-ac55205e7e21</td>\n",
       "    </tr>\n",
       "  </tbody>\n",
       "</table>\n",
       "</div>"
      ],
      "text/plain": [
       "                                                        name investment_type  \\\n",
       "uuid                                                                           \n",
       "d950d7a5-79ff-fb93-ca87-13386b0e2feb         Series A - Meta        series_a   \n",
       "6fae3958-a001-27c0-fb7e-666266aedd78         Series B - Meta        series_b   \n",
       "bcd5a63d-ed99-6963-0dd2-e36f6582f846  Series B - Photobucket        series_b   \n",
       "60e6afd9-1215-465a-dd17-0ed600d4e29b         Series A - Geni        series_a   \n",
       "4a56483e-d637-65fa-a2b4-abe6613e5c6b         Series B - Geni        series_b   \n",
       "\n",
       "                                      raised_amount_usd  investor_count  \\\n",
       "uuid                                                                      \n",
       "d950d7a5-79ff-fb93-ca87-13386b0e2feb         12700000.0             4.0   \n",
       "6fae3958-a001-27c0-fb7e-666266aedd78         27500000.0             5.0   \n",
       "bcd5a63d-ed99-6963-0dd2-e36f6582f846         10500000.0             2.0   \n",
       "60e6afd9-1215-465a-dd17-0ed600d4e29b                NaN             1.0   \n",
       "4a56483e-d637-65fa-a2b4-abe6613e5c6b         10000000.0             1.0   \n",
       "\n",
       "                                                                  org_uuid  \\\n",
       "uuid                                                                         \n",
       "d950d7a5-79ff-fb93-ca87-13386b0e2feb  df662812-7f97-0b43-9d3e-12f64f504fbb   \n",
       "6fae3958-a001-27c0-fb7e-666266aedd78  df662812-7f97-0b43-9d3e-12f64f504fbb   \n",
       "bcd5a63d-ed99-6963-0dd2-e36f6582f846  f53cb4de-236e-0b1b-dee8-7104a8b018f9   \n",
       "60e6afd9-1215-465a-dd17-0ed600d4e29b  4111dc8b-c0df-2d24-ed33-30cd137b3098   \n",
       "4a56483e-d637-65fa-a2b4-abe6613e5c6b  4111dc8b-c0df-2d24-ed33-30cd137b3098   \n",
       "\n",
       "                                         org_name  \\\n",
       "uuid                                                \n",
       "d950d7a5-79ff-fb93-ca87-13386b0e2feb         Meta   \n",
       "6fae3958-a001-27c0-fb7e-666266aedd78         Meta   \n",
       "bcd5a63d-ed99-6963-0dd2-e36f6582f846  Photobucket   \n",
       "60e6afd9-1215-465a-dd17-0ed600d4e29b         Geni   \n",
       "4a56483e-d637-65fa-a2b4-abe6613e5c6b         Geni   \n",
       "\n",
       "                                                                    lead_investor_uuids  \n",
       "uuid                                                                                     \n",
       "d950d7a5-79ff-fb93-ca87-13386b0e2feb               b08efc27-da40-505a-6f9d-c9e14247bf36  \n",
       "6fae3958-a001-27c0-fb7e-666266aedd78  e2006571-6b7a-e477-002a-f7014f48a7e3,8d5c7e48-...  \n",
       "bcd5a63d-ed99-6963-0dd2-e36f6582f846                                                NaN  \n",
       "60e6afd9-1215-465a-dd17-0ed600d4e29b               fb2f8884-ec07-895a-48d7-d9a9d4d7175c  \n",
       "4a56483e-d637-65fa-a2b4-abe6613e5c6b               1787528e-7bd3-a500-ba86-ac55205e7e21  "
      ]
     },
     "execution_count": 5,
     "metadata": {},
     "output_type": "execute_result"
    }
   ],
   "source": [
    "df_2=df_1[(df_1['investment_type']=='series_a')|\n",
    "         (df_1['investment_type']=='series_b')|\n",
    "         (df_1['investment_type']=='series_c')]\n",
    "df_2.head()"
   ]
  },
  {
   "cell_type": "code",
   "execution_count": 6,
   "id": "3ae4ce46",
   "metadata": {},
   "outputs": [
    {
     "data": {
      "text/html": [
       "<div>\n",
       "<style scoped>\n",
       "    .dataframe tbody tr th:only-of-type {\n",
       "        vertical-align: middle;\n",
       "    }\n",
       "\n",
       "    .dataframe tbody tr th {\n",
       "        vertical-align: top;\n",
       "    }\n",
       "\n",
       "    .dataframe thead th {\n",
       "        text-align: right;\n",
       "    }\n",
       "</style>\n",
       "<table border=\"1\" class=\"dataframe\">\n",
       "  <thead>\n",
       "    <tr style=\"text-align: right;\">\n",
       "      <th></th>\n",
       "      <th>raised_amount_usd</th>\n",
       "      <th>investor_count</th>\n",
       "    </tr>\n",
       "  </thead>\n",
       "  <tbody>\n",
       "    <tr>\n",
       "      <th>count</th>\n",
       "      <td>8.077800e+04</td>\n",
       "      <td>84625.000000</td>\n",
       "    </tr>\n",
       "    <tr>\n",
       "      <th>mean</th>\n",
       "      <td>1.937088e+07</td>\n",
       "      <td>3.238109</td>\n",
       "    </tr>\n",
       "    <tr>\n",
       "      <th>std</th>\n",
       "      <td>9.338872e+07</td>\n",
       "      <td>2.871212</td>\n",
       "    </tr>\n",
       "    <tr>\n",
       "      <th>min</th>\n",
       "      <td>0.000000e+00</td>\n",
       "      <td>0.000000</td>\n",
       "    </tr>\n",
       "    <tr>\n",
       "      <th>25%</th>\n",
       "      <td>3.230459e+06</td>\n",
       "      <td>1.000000</td>\n",
       "    </tr>\n",
       "    <tr>\n",
       "      <th>50%</th>\n",
       "      <td>8.000000e+06</td>\n",
       "      <td>2.000000</td>\n",
       "    </tr>\n",
       "    <tr>\n",
       "      <th>75%</th>\n",
       "      <td>1.800000e+07</td>\n",
       "      <td>4.000000</td>\n",
       "    </tr>\n",
       "    <tr>\n",
       "      <th>max</th>\n",
       "      <td>1.400000e+10</td>\n",
       "      <td>98.000000</td>\n",
       "    </tr>\n",
       "  </tbody>\n",
       "</table>\n",
       "</div>"
      ],
      "text/plain": [
       "       raised_amount_usd  investor_count\n",
       "count       8.077800e+04    84625.000000\n",
       "mean        1.937088e+07        3.238109\n",
       "std         9.338872e+07        2.871212\n",
       "min         0.000000e+00        0.000000\n",
       "25%         3.230459e+06        1.000000\n",
       "50%         8.000000e+06        2.000000\n",
       "75%         1.800000e+07        4.000000\n",
       "max         1.400000e+10       98.000000"
      ]
     },
     "execution_count": 6,
     "metadata": {},
     "output_type": "execute_result"
    }
   ],
   "source": [
    "df_2.describe()"
   ]
  },
  {
   "cell_type": "code",
   "execution_count": 7,
   "id": "a8d1a978",
   "metadata": {},
   "outputs": [],
   "source": [
    "series_a=df_2[df_2['investment_type']=='series_a']\n",
    "series_b=df_2[df_2['investment_type']=='series_b']\n",
    "series_c=df_2[df_2['investment_type']=='series_c']"
   ]
  },
  {
   "cell_type": "code",
   "execution_count": 8,
   "id": "7fa7bbd1",
   "metadata": {},
   "outputs": [
    {
     "data": {
      "text/html": [
       "<div>\n",
       "<style scoped>\n",
       "    .dataframe tbody tr th:only-of-type {\n",
       "        vertical-align: middle;\n",
       "    }\n",
       "\n",
       "    .dataframe tbody tr th {\n",
       "        vertical-align: top;\n",
       "    }\n",
       "\n",
       "    .dataframe thead th {\n",
       "        text-align: right;\n",
       "    }\n",
       "</style>\n",
       "<table border=\"1\" class=\"dataframe\">\n",
       "  <thead>\n",
       "    <tr style=\"text-align: right;\">\n",
       "      <th></th>\n",
       "      <th>raised_amount_usd</th>\n",
       "      <th>investor_count</th>\n",
       "    </tr>\n",
       "  </thead>\n",
       "  <tbody>\n",
       "    <tr>\n",
       "      <th>count</th>\n",
       "      <td>4.580400e+04</td>\n",
       "      <td>48518.000000</td>\n",
       "    </tr>\n",
       "    <tr>\n",
       "      <th>mean</th>\n",
       "      <td>1.159043e+07</td>\n",
       "      <td>2.885960</td>\n",
       "    </tr>\n",
       "    <tr>\n",
       "      <th>std</th>\n",
       "      <td>8.001593e+07</td>\n",
       "      <td>2.804952</td>\n",
       "    </tr>\n",
       "    <tr>\n",
       "      <th>min</th>\n",
       "      <td>0.000000e+00</td>\n",
       "      <td>0.000000</td>\n",
       "    </tr>\n",
       "    <tr>\n",
       "      <th>25%</th>\n",
       "      <td>2.244666e+06</td>\n",
       "      <td>1.000000</td>\n",
       "    </tr>\n",
       "    <tr>\n",
       "      <th>50%</th>\n",
       "      <td>5.093402e+06</td>\n",
       "      <td>2.000000</td>\n",
       "    </tr>\n",
       "    <tr>\n",
       "      <th>75%</th>\n",
       "      <td>1.070000e+07</td>\n",
       "      <td>4.000000</td>\n",
       "    </tr>\n",
       "    <tr>\n",
       "      <th>max</th>\n",
       "      <td>1.000000e+10</td>\n",
       "      <td>98.000000</td>\n",
       "    </tr>\n",
       "  </tbody>\n",
       "</table>\n",
       "</div>"
      ],
      "text/plain": [
       "       raised_amount_usd  investor_count\n",
       "count       4.580400e+04    48518.000000\n",
       "mean        1.159043e+07        2.885960\n",
       "std         8.001593e+07        2.804952\n",
       "min         0.000000e+00        0.000000\n",
       "25%         2.244666e+06        1.000000\n",
       "50%         5.093402e+06        2.000000\n",
       "75%         1.070000e+07        4.000000\n",
       "max         1.000000e+10       98.000000"
      ]
     },
     "execution_count": 8,
     "metadata": {},
     "output_type": "execute_result"
    }
   ],
   "source": [
    "series_a.describe()"
   ]
  },
  {
   "cell_type": "code",
   "execution_count": 9,
   "id": "29cf91ea",
   "metadata": {},
   "outputs": [
    {
     "data": {
      "text/html": [
       "<div>\n",
       "<style scoped>\n",
       "    .dataframe tbody tr th:only-of-type {\n",
       "        vertical-align: middle;\n",
       "    }\n",
       "\n",
       "    .dataframe tbody tr th {\n",
       "        vertical-align: top;\n",
       "    }\n",
       "\n",
       "    .dataframe thead th {\n",
       "        text-align: right;\n",
       "    }\n",
       "</style>\n",
       "<table border=\"1\" class=\"dataframe\">\n",
       "  <thead>\n",
       "    <tr style=\"text-align: right;\">\n",
       "      <th></th>\n",
       "      <th>raised_amount_usd</th>\n",
       "      <th>investor_count</th>\n",
       "    </tr>\n",
       "  </thead>\n",
       "  <tbody>\n",
       "    <tr>\n",
       "      <th>count</th>\n",
       "      <td>2.383100e+04</td>\n",
       "      <td>24695.000000</td>\n",
       "    </tr>\n",
       "    <tr>\n",
       "      <th>mean</th>\n",
       "      <td>2.396197e+07</td>\n",
       "      <td>3.522251</td>\n",
       "    </tr>\n",
       "    <tr>\n",
       "      <th>std</th>\n",
       "      <td>6.980542e+07</td>\n",
       "      <td>2.798398</td>\n",
       "    </tr>\n",
       "    <tr>\n",
       "      <th>min</th>\n",
       "      <td>0.000000e+00</td>\n",
       "      <td>0.000000</td>\n",
       "    </tr>\n",
       "    <tr>\n",
       "      <th>25%</th>\n",
       "      <td>6.000000e+06</td>\n",
       "      <td>2.000000</td>\n",
       "    </tr>\n",
       "    <tr>\n",
       "      <th>50%</th>\n",
       "      <td>1.300000e+07</td>\n",
       "      <td>3.000000</td>\n",
       "    </tr>\n",
       "    <tr>\n",
       "      <th>75%</th>\n",
       "      <td>2.500000e+07</td>\n",
       "      <td>5.000000</td>\n",
       "    </tr>\n",
       "    <tr>\n",
       "      <th>max</th>\n",
       "      <td>5.949488e+09</td>\n",
       "      <td>69.000000</td>\n",
       "    </tr>\n",
       "  </tbody>\n",
       "</table>\n",
       "</div>"
      ],
      "text/plain": [
       "       raised_amount_usd  investor_count\n",
       "count       2.383100e+04    24695.000000\n",
       "mean        2.396197e+07        3.522251\n",
       "std         6.980542e+07        2.798398\n",
       "min         0.000000e+00        0.000000\n",
       "25%         6.000000e+06        2.000000\n",
       "50%         1.300000e+07        3.000000\n",
       "75%         2.500000e+07        5.000000\n",
       "max         5.949488e+09       69.000000"
      ]
     },
     "execution_count": 9,
     "metadata": {},
     "output_type": "execute_result"
    }
   ],
   "source": [
    "series_b.describe()"
   ]
  },
  {
   "cell_type": "code",
   "execution_count": 10,
   "id": "ce023a24",
   "metadata": {},
   "outputs": [
    {
     "data": {
      "text/html": [
       "<div>\n",
       "<style scoped>\n",
       "    .dataframe tbody tr th:only-of-type {\n",
       "        vertical-align: middle;\n",
       "    }\n",
       "\n",
       "    .dataframe tbody tr th {\n",
       "        vertical-align: top;\n",
       "    }\n",
       "\n",
       "    .dataframe thead th {\n",
       "        text-align: right;\n",
       "    }\n",
       "</style>\n",
       "<table border=\"1\" class=\"dataframe\">\n",
       "  <thead>\n",
       "    <tr style=\"text-align: right;\">\n",
       "      <th></th>\n",
       "      <th>raised_amount_usd</th>\n",
       "      <th>investor_count</th>\n",
       "    </tr>\n",
       "  </thead>\n",
       "  <tbody>\n",
       "    <tr>\n",
       "      <th>count</th>\n",
       "      <td>1.114300e+04</td>\n",
       "      <td>11412.000000</td>\n",
       "    </tr>\n",
       "    <tr>\n",
       "      <th>mean</th>\n",
       "      <td>4.153420e+07</td>\n",
       "      <td>4.120400</td>\n",
       "    </tr>\n",
       "    <tr>\n",
       "      <th>std</th>\n",
       "      <td>1.603178e+08</td>\n",
       "      <td>3.042574</td>\n",
       "    </tr>\n",
       "    <tr>\n",
       "      <th>min</th>\n",
       "      <td>0.000000e+00</td>\n",
       "      <td>1.000000</td>\n",
       "    </tr>\n",
       "    <tr>\n",
       "      <th>25%</th>\n",
       "      <td>1.000000e+07</td>\n",
       "      <td>2.000000</td>\n",
       "    </tr>\n",
       "    <tr>\n",
       "      <th>50%</th>\n",
       "      <td>2.000000e+07</td>\n",
       "      <td>4.000000</td>\n",
       "    </tr>\n",
       "    <tr>\n",
       "      <th>75%</th>\n",
       "      <td>4.500000e+07</td>\n",
       "      <td>5.000000</td>\n",
       "    </tr>\n",
       "    <tr>\n",
       "      <th>max</th>\n",
       "      <td>1.400000e+10</td>\n",
       "      <td>52.000000</td>\n",
       "    </tr>\n",
       "  </tbody>\n",
       "</table>\n",
       "</div>"
      ],
      "text/plain": [
       "       raised_amount_usd  investor_count\n",
       "count       1.114300e+04    11412.000000\n",
       "mean        4.153420e+07        4.120400\n",
       "std         1.603178e+08        3.042574\n",
       "min         0.000000e+00        1.000000\n",
       "25%         1.000000e+07        2.000000\n",
       "50%         2.000000e+07        4.000000\n",
       "75%         4.500000e+07        5.000000\n",
       "max         1.400000e+10       52.000000"
      ]
     },
     "execution_count": 10,
     "metadata": {},
     "output_type": "execute_result"
    }
   ],
   "source": [
    "series_c.describe()"
   ]
  },
  {
   "cell_type": "code",
   "execution_count": 17,
   "id": "cb756ec8",
   "metadata": {},
   "outputs": [
    {
     "data": {
      "text/plain": [
       "Super                               11\n",
       "Canopy                              11\n",
       "Paper Boat                          11\n",
       "Plum                                10\n",
       "Vestaron                            10\n",
       "                                    ..\n",
       "Intelligent Sensory concept          1\n",
       "Relax Commerce GmbH                  1\n",
       "Zugeliang                            1\n",
       "Ent. Evolution                       1\n",
       "B-TIME Digital Innovation Center     1\n",
       "Name: org_name, Length: 55086, dtype: int64"
      ]
     },
     "execution_count": 17,
     "metadata": {},
     "output_type": "execute_result"
    }
   ],
   "source": [
    "df_2['org_name'].value_counts()"
   ]
  },
  {
   "cell_type": "code",
   "execution_count": 14,
   "id": "916c6a49",
   "metadata": {},
   "outputs": [
    {
     "data": {
      "text/plain": [
       "<AxesSubplot:xlabel='raised_amount_usd', ylabel='investment_type'>"
      ]
     },
     "execution_count": 14,
     "metadata": {},
     "output_type": "execute_result"
    },
    {
     "data": {
      "image/png": "[encoded data removed]",
      "text/plain": [
       "<Figure size 432x288 with 1 Axes>"
      ]
     },
     "metadata": {
      "needs_background": "light"
     },
     "output_type": "display_data"
    }
   ],
   "source": [
    "sns.barplot(x='raised_amount_usd',y='investment_type',data=df_2)"
   ]
  },
  {
   "cell_type": "code",
   "execution_count": 15,
   "id": "13bc1943",
   "metadata": {},
   "outputs": [
    {
     "data": {
      "text/plain": [
       "<AxesSubplot:xlabel='raised_amount_usd', ylabel='investment_type'>"
      ]
     },
     "execution_count": 15,
     "metadata": {},
     "output_type": "execute_result"
    },
    {
     "data": {
      "image/png": "[encoded data removed]",
      "text/plain": [
       "<Figure size 432x288 with 1 Axes>"
      ]
     },
     "metadata": {
      "needs_background": "light"
     },
     "output_type": "display_data"
    }
   ],
   "source": [
    "sns.boxplot(x='raised_amount_usd', y='investment_type', data=df_2)"
   ]
  },
  {
   "cell_type": "markdown",
   "id": "d14668fa",
   "metadata": {},
   "source": [
    "One-way ANOVA"
   ]
  },
  {
   "cell_type": "code",
   "execution_count": 27,
   "id": "7364a9fb",
   "metadata": {},
   "outputs": [],
   "source": [
    "from scipy import stats\n",
    "import statsmodels.api as sm\n",
    "from scipy.stats import bartlett\n",
    "from statsmodels.formula.api import ols\n",
    "from statsmodels.stats.anova import anova_lm"
   ]
  },
  {
   "cell_type": "code",
   "execution_count": 21,
   "id": "b4d16f55",
   "metadata": {},
   "outputs": [
    {
     "data": {
      "text/plain": [
       "<AxesSubplot:xlabel='raised_amount_usd', ylabel='Density'>"
      ]
     },
     "execution_count": 21,
     "metadata": {},
     "output_type": "execute_result"
    },
    {
     "data": {
      "image/png": "[encoded data removed]",
      "text/plain": [
       "<Figure size 432x288 with 1 Axes>"
      ]
     },
     "metadata": {
      "needs_background": "light"
     },
     "output_type": "display_data"
    }
   ],
   "source": [
    "sns.kdeplot(data=series_a['raised_amount_usd'], color=\"blue\", shade=True)\n",
    "sns.kdeplot(data=series_b['raised_amount_usd'], color=\"orange\", shade=True)\n",
    "sns.kdeplot(data=series_c['raised_amount_usd'], color=\"green\", shade=True)"
   ]
  },
  {
   "cell_type": "code",
   "execution_count": 48,
   "id": "652ba74c",
   "metadata": {},
   "outputs": [],
   "source": [
    "A=series_a['raised_amount_usd'].dropna(axis=0)\n",
    "B=series_b['raised_amount_usd'].dropna(axis=0)\n",
    "C=series_c['raised_amount_usd'].dropna(axis=0)"
   ]
  },
  {
   "cell_type": "code",
   "execution_count": 55,
   "id": "fbe5aa27",
   "metadata": {},
   "outputs": [
    {
     "name": "stdout",
     "output_type": "stream",
     "text": [
      "ShapiroResult(statistic=0.047428131103515625, pvalue=0.0)\n",
      "skewness test: 92.24983774205691\n",
      "ShapiroResult(statistic=0.18408167362213135, pvalue=0.0)\n",
      "skewness test: 42.796262076487395\n",
      "ShapiroResult(statistic=0.11000275611877441, pvalue=0.0)\n",
      "skewness test: 65.53917066162593\n"
     ]
    }
   ],
   "source": [
    "print(stats.shapiro(A), 'skewness test: {}'.format(abs(stats.skew(A,bias=False))),sep='\\n')\n",
    "print(stats.shapiro(B), 'skewness test: {}'.format(abs(stats.skew(B,bias=False))),sep='\\n')\n",
    "print(stats.shapiro(C), 'skewness test: {}'.format(abs(stats.skew(C,bias=False))),sep='\\n')"
   ]
  },
  {
   "cell_type": "markdown",
   "id": "491a5e43",
   "metadata": {},
   "source": [
    "- A의 경우, p-value가 0.05보다 작아 정규성 가정이 성립하지 않고 왜도가 2보다 크므로 정규분포를 따르지 않는다.\n",
    "- B의 경우, p-value가 0.05보다 크므로 정규성 가정이 성립하고 왜도가 2보다 크므로 정규분포를 따르지 않는다.\n",
    "- C의 경우, p-value가 0.05보다 크므로 정규성 가정이 성립하고 왜도가 2보다 크므로 정규분포를 따르지 않는다."
   ]
  },
  {
   "cell_type": "code",
   "execution_count": 50,
   "id": "9670c893",
   "metadata": {},
   "outputs": [
    {
     "data": {
      "text/plain": [
       "BartlettResult(statistic=14979.377618755301, pvalue=0.0)"
      ]
     },
     "execution_count": 50,
     "metadata": {},
     "output_type": "execute_result"
    }
   ],
   "source": [
    "stats.bartlett(A, B, C)"
   ]
  },
  {
   "cell_type": "code",
   "execution_count": 58,
   "id": "9b0fb568",
   "metadata": {},
   "outputs": [
    {
     "data": {
      "text/plain": [
       "LeveneResult(statistic=288.48150261035755, pvalue=1.4434597198947004e-125)"
      ]
     },
     "execution_count": 58,
     "metadata": {},
     "output_type": "execute_result"
    }
   ],
   "source": [
    "stats.levene(A, B, C)"
   ]
  },
  {
   "cell_type": "markdown",
   "id": "9f9e7305",
   "metadata": {},
   "source": [
    "- p-value가 매우 작은 것으로 보아, 등분산성을 만족하지 않는다."
   ]
  },
  {
   "cell_type": "code",
   "execution_count": 56,
   "id": "2bc61294",
   "metadata": {},
   "outputs": [
    {
     "name": "stdout",
     "output_type": "stream",
     "text": [
      "F-ratio: 507.85421734894754\n",
      "p-value:6.560077208091018e-220\n"
     ]
    }
   ],
   "source": [
    "F, p=stats.f_oneway(A,B,C)\n",
    "print('F-ratio: {}'.format(F), 'p-value:{}'.format(p), sep='\\n')"
   ]
  },
  {
   "cell_type": "markdown",
   "id": "18bb2bd3",
   "metadata": {},
   "source": [
    "- 정규성, 등분산성을 만족하지 못하지만, F-ratio 자체는 507보다 큰 값이므로, 그룹 간 평균에 차이가 있다. 또한, p-value가 유의하다."
   ]
  },
  {
   "cell_type": "markdown",
   "id": "0deae594",
   "metadata": {},
   "source": [
    "가장 큰 값을 제거하고 분석해본 경우"
   ]
  },
  {
   "cell_type": "code",
   "execution_count": 70,
   "id": "a4cf1f12",
   "metadata": {},
   "outputs": [],
   "source": [
    "a=series_a.sort_values(by='raised_amount_usd', ascending=False)[['raised_amount_usd']].dropna(axis=0)\n",
    "b=series_b.sort_values(by='raised_amount_usd', ascending=False)[['raised_amount_usd']].dropna(axis=0)\n",
    "c=series_c.sort_values(by='raised_amount_usd', ascending=False)[['raised_amount_usd']].dropna(axis=0)"
   ]
  },
  {
   "cell_type": "code",
   "execution_count": 77,
   "id": "9a205b23",
   "metadata": {},
   "outputs": [],
   "source": [
    "a=a['raised_amount_usd'][1:]\n",
    "b=b['raised_amount_usd'][1:]\n",
    "c=c['raised_amount_usd'][1:]"
   ]
  },
  {
   "cell_type": "code",
   "execution_count": 78,
   "id": "d47c02dc",
   "metadata": {},
   "outputs": [
    {
     "name": "stdout",
     "output_type": "stream",
     "text": [
      "ShapiroResult(statistic=0.12037533521652222, pvalue=0.0)\n",
      "skewness test: 40.78816798123342\n",
      "ShapiroResult(statistic=0.3133913278579712, pvalue=0.0)\n",
      "skewness test: 15.958928633612683\n",
      "ShapiroResult(statistic=0.47397446632385254, pvalue=0.0)\n",
      "skewness test: 6.991916628987431\n"
     ]
    }
   ],
   "source": [
    "print(stats.shapiro(a), 'skewness test: {}'.format(abs(stats.skew(a,bias=False))),sep='\\n')\n",
    "print(stats.shapiro(b), 'skewness test: {}'.format(abs(stats.skew(b,bias=False))),sep='\\n')\n",
    "print(stats.shapiro(c), 'skewness test: {}'.format(abs(stats.skew(c,bias=False))),sep='\\n')"
   ]
  },
  {
   "cell_type": "markdown",
   "id": "fec238f7",
   "metadata": {},
   "source": [
    "- A, B, C 모두 정규성 가정이 성립하고, 비교적 왜도가 크게 줄어들었다."
   ]
  },
  {
   "cell_type": "code",
   "execution_count": 79,
   "id": "fde30531",
   "metadata": {},
   "outputs": [
    {
     "name": "stdout",
     "output_type": "stream",
     "text": [
      "F-ratio: 1591.5279329132943\n",
      "p-value:0.0\n"
     ]
    }
   ],
   "source": [
    "F, p=stats.f_oneway(a,b,c)\n",
    "print('F-ratio: {}'.format(F), 'p-value:{}'.format(p), sep='\\n')"
   ]
  },
  {
   "cell_type": "code",
   "execution_count": null,
   "id": "c292499d",
   "metadata": {},
   "outputs": [],
   "source": []
  }
 ],
 "metadata": {
  "kernelspec": {
   "display_name": "Python 3 (ipykernel)",
   "language": "python",
   "name": "python3"
  },
  "language_info": {
   "codemirror_mode": {
    "name": "ipython",
    "version": 3
   },
   "file_extension": ".py",
   "mimetype": "text/x-python",
   "name": "python",
   "nbconvert_exporter": "python",
   "pygments_lexer": "ipython3",
   "version": "3.9.12"
  }
 },
 "nbformat": 4,
 "nbformat_minor": 5
}
